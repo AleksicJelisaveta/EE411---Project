{
 "cells": [
  {
   "cell_type": "code",
   "execution_count": 1,
   "metadata": {},
   "outputs": [],
   "source": [
    "import torch\n",
    "from torch.utils.data import Dataset, DataLoader\n",
    "from torchvision import datasets, transforms\n",
    "import numpy as np\n",
    "import torchvision\n",
    "from PIL import Image"
   ]
  },
  {
   "cell_type": "code",
   "execution_count": 2,
   "metadata": {},
   "outputs": [],
   "source": [
    "class RotatedMNIST(Dataset):\n",
    "    def __init__(self, data, degree):\n",
    "        self.data = data\n",
    "        self.rotation_degree = degree\n",
    "        self.transform = transforms.Compose([\n",
    "            transforms.RandomRotation((degree, degree)),\n",
    "            transforms.ToTensor(),\n",
    "        ])\n",
    "    \n",
    "    def __len__(self):\n",
    "        return len(self.data)\n",
    "    \n",
    "    def __getitem__(self, idx):\n",
    "        img, label = self.data[idx]\n",
    "        img = self.transform(img)  \n",
    "        return img, label"
   ]
  },
  {
   "cell_type": "code",
   "execution_count": 3,
   "metadata": {},
   "outputs": [],
   "source": [
    "class PermutedMNIST(Dataset):\n",
    "    def __init__(self, data, permutation=None):\n",
    "        self.data = data\n",
    "        if permutation is not None:\n",
    "            self.permutation = permutation\n",
    "        else:\n",
    "            np.random.permutation(28*28)\n",
    "        \n",
    "    def __len__(self):\n",
    "        return len(self.data)\n",
    "    \n",
    "    def __getitem__(self, idx):\n",
    "        img, label = self.data[idx]\n",
    "        \n",
    "        img_flattened = np.array(img).flatten()  \n",
    "        permuted_image = img_flattened[self.permutation] \n",
    "        permuted_image = permuted_image.reshape(28, 28)  \n",
    "        \n",
    "        permuted_image_tensor = torch.tensor(permuted_image, dtype=torch.float32).unsqueeze(0)  \n",
    "        \n",
    "        return permuted_image_tensor, label"
   ]
  },
  {
   "cell_type": "code",
   "execution_count": 4,
   "metadata": {},
   "outputs": [],
   "source": [
    "#Permute each task \n",
    "def permute_dataset(data):\n",
    "\n",
    "    task_datasets_permuted = []\n",
    "    num_tasks = 10\n",
    "    for i in range(num_tasks): \n",
    "        random_permutation = np.random.permutation(28 * 28) \n",
    "        permuted_dataset = PermutedMNIST(data, random_permutation)\n",
    "        task_datasets_permuted.append(permuted_dataset)\n",
    "    \n",
    "    return task_datasets_permuted"
   ]
  },
  {
   "cell_type": "code",
   "execution_count": 5,
   "metadata": {},
   "outputs": [],
   "source": [
    "#Rotate each task\n",
    "def rotate_dataset(data):\n",
    "\n",
    "    task_datasets_rotated = []\n",
    "    for i in range(10):\n",
    "        degree = 10 * i \n",
    "        rotated_data = RotatedMNIST(data, degree)\n",
    "        task_datasets_rotated.append(rotated_data)\n",
    "    \n",
    "    return task_datasets_rotated"
   ]
  },
  {
   "cell_type": "code",
   "execution_count": 6,
   "metadata": {},
   "outputs": [],
   "source": [
    "def create_task_dataloaders(task_datasets, batch_size=64):\n",
    "    task_loaders = []\n",
    "    for task_dataset in task_datasets:\n",
    "        task_loader = DataLoader(task_dataset, batch_size=batch_size, shuffle=True)\n",
    "        task_loaders.append(task_loader)\n",
    "    return task_loaders"
   ]
  },
  {
   "cell_type": "code",
   "execution_count": null,
   "metadata": {},
   "outputs": [],
   "source": [
    "#Load MNIST dataset for train and test\n",
    "train_dataset = datasets.MNIST(root='./data', train=True, download=True)\n",
    "test_dataset = datasets.MNIST(root='./data', train=False, download=True)"
   ]
  },
  {
   "cell_type": "code",
   "execution_count": 9,
   "metadata": {},
   "outputs": [],
   "source": [
    "#Permute train and test sets\n",
    "permuted_tasks_train = permute_dataset(train_dataset)\n",
    "permuted_tasks_test = permute_dataset(test_dataset)\n",
    "\n",
    "#Rotate train and test sets\n",
    "rotated_tasks_train = rotate_dataset(train_dataset)\n",
    "rotated_tasks_test = rotate_dataset(test_dataset)"
   ]
  }
 ],
 "metadata": {
  "kernelspec": {
   "display_name": "Python 3",
   "language": "python",
   "name": "python3"
  },
  "language_info": {
   "codemirror_mode": {
    "name": "ipython",
    "version": 3
   },
   "file_extension": ".py",
   "mimetype": "text/x-python",
   "name": "python",
   "nbconvert_exporter": "python",
   "pygments_lexer": "ipython3",
   "version": "3.11.2"
  }
 },
 "nbformat": 4,
 "nbformat_minor": 2
}
