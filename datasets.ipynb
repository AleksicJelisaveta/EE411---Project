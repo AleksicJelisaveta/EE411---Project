{
 "cells": [
  {
   "cell_type": "code",
   "execution_count": 1,
   "metadata": {},
   "outputs": [],
   "source": []
  },
  {
   "cell_type": "code",
   "execution_count": 2,
   "metadata": {},
   "outputs": [],
   "source": []
  },
  {
   "cell_type": "code",
   "execution_count": 3,
   "metadata": {},
   "outputs": [],
   "source": []
  },
  {
   "cell_type": "code",
   "execution_count": 4,
   "metadata": {},
   "outputs": [],
   "source": []
  },
  {
   "cell_type": "code",
   "execution_count": 5,
   "metadata": {},
   "outputs": [],
   "source": [
    "#Rotate each task\n",
    "def rotate_dataset(data):\n",
    "\n",
    "    task_datasets_rotated = []\n",
    "    for i in range(10):\n",
    "        degree = 10 * i \n",
    "        rotated_data = RotatedMNIST(data, degree)\n",
    "        task_datasets_rotated.append(rotated_data)\n",
    "    \n",
    "    return task_datasets_rotated"
   ]
  },
  {
   "cell_type": "code",
   "execution_count": 6,
   "metadata": {},
   "outputs": [],
   "source": [
    "def create_task_dataloaders(task_datasets, batch_size=64):\n",
    "    task_loaders = []\n",
    "    for task_dataset in task_datasets:\n",
    "        task_loader = DataLoader(task_dataset, batch_size=batch_size, shuffle=True)\n",
    "        task_loaders.append(task_loader)\n",
    "    return task_loaders"
   ]
  },
  {
   "cell_type": "code",
   "execution_count": null,
   "metadata": {},
   "outputs": [],
   "source": [
    "#Load MNIST dataset for train and test\n",
    "train_dataset = datasets.MNIST(root='./data', train=True, download=True)\n",
    "test_dataset = datasets.MNIST(root='./data', train=False, download=True)"
   ]
  },
  {
   "cell_type": "code",
   "execution_count": 9,
   "metadata": {},
   "outputs": [],
   "source": [
    "#Permute train and test sets\n",
    "permuted_tasks_train = permute_dataset(train_dataset)\n",
    "permuted_tasks_test = permute_dataset(test_dataset)\n",
    "\n",
    "#Rotate train and test sets\n",
    "rotated_tasks_train = rotate_dataset(train_dataset)\n",
    "rotated_tasks_test = rotate_dataset(test_dataset)"
   ]
  }
 ],
 "metadata": {
  "kernelspec": {
   "display_name": "Python 3",
   "language": "python",
   "name": "python3"
  },
  "language_info": {
   "codemirror_mode": {
    "name": "ipython",
    "version": 3
   },
   "file_extension": ".py",
   "mimetype": "text/x-python",
   "name": "python",
   "nbconvert_exporter": "python",
   "pygments_lexer": "ipython3",
   "version": "3.11.2"
  }
 },
 "nbformat": 4,
 "nbformat_minor": 2
}
