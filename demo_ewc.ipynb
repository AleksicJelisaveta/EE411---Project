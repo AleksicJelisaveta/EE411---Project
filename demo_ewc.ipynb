{
  "cells": [
    {
      "cell_type": "code",
      "execution_count": 1,
      "metadata": {},
      "outputs": [
        {
          "name": "stderr",
          "output_type": "stream",
          "text": [
            "c:\\Users\\DELL\\AppData\\Local\\Programs\\Python\\Python39\\lib\\site-packages\\transformers\\utils\\generic.py:441: UserWarning: torch.utils._pytree._register_pytree_node is deprecated. Please use torch.utils._pytree.register_pytree_node instead.\n",
            "  _torch_pytree._register_pytree_node(\n"
          ]
        }
      ],
      "source": [
        "import torch\n",
        "import torch.nn as nn\n",
        "import torch.optim as optim\n",
        "from torch.utils.data import Dataset, DataLoader, Subset\n",
        "from torchvision import datasets, transforms\n",
        "import numpy as np\n",
        "from elastic_weight_consolidation import EWC"
      ]
    },
    {
      "cell_type": "code",
      "execution_count": 2,
      "metadata": {},
      "outputs": [],
      "source": [
        "# PermutedMNIST dataset class\n",
        "class PermutedMNIST(Dataset):\n",
        "    def __init__(self, data, permutation=None):\n",
        "        self.data = data\n",
        "        if permutation is not None:\n",
        "            self.permutation = permutation\n",
        "        else:\n",
        "            self.permutation = np.random.permutation(28 * 28)\n",
        "\n",
        "    def __len__(self):\n",
        "        return len(self.data)\n",
        "\n",
        "    def __getitem__(self, idx):\n",
        "        img, label = self.data[idx]\n",
        "\n",
        "        img_flattened = np.array(img).flatten()\n",
        "        permuted_image = img_flattened[self.permutation]\n",
        "        permuted_image = permuted_image.reshape(28, 28)\n",
        "\n",
        "        permuted_image_tensor = torch.tensor(permuted_image, dtype=torch.float32).unsqueeze(0)\n",
        "\n",
        "        return permuted_image_tensor, label\n",
        "\n",
        "# Generate permuted datasets\n",
        "def permute_dataset():\n",
        "    train_data = datasets.MNIST(root='./data', train=True, download=True)\n",
        "\n",
        "    task_datasets = []\n",
        "    num_tasks = 3  # Task A and Task B\n",
        "    for i in range(num_tasks):\n",
        "        random_permutation = np.random.permutation(28 * 28)\n",
        "        permuted_dataset = PermutedMNIST(train_data, random_permutation)\n",
        "        task_datasets.append(permuted_dataset)\n",
        "\n",
        "    return task_datasets"
      ]
    },
    {
      "cell_type": "code",
      "execution_count": 3,
      "metadata": {},
      "outputs": [],
      "source": [
        "# Define a simple neural network\n",
        "class SimpleNN(nn.Module):\n",
        "    def __init__(self):\n",
        "        super(SimpleNN, self).__init__()\n",
        "        self.fc1 = nn.Linear(28 * 28, 256)\n",
        "        self.fc2 = nn.Linear(256, 10)\n",
        "\n",
        "    def forward(self, x):\n",
        "        x = x.view(x.size(0), -1)\n",
        "        x = torch.relu(self.fc1(x))\n",
        "        x = self.fc2(x)\n",
        "        return x\n",
        "\n",
        "# Helper function to train the model\n",
        "def train_model(model, dataloader, criterion, optimizer, ewc=None, lambda_ewc=0.0, epochs=1, device='cpu'):\n",
        "    model.train()\n",
        "    for epoch in range(epochs):\n",
        "        total_loss = 0.0\n",
        "        for inputs, targets in dataloader:\n",
        "            inputs, targets = inputs.to(device), targets.to(device)\n",
        "\n",
        "            # Zero gradients\n",
        "            optimizer.zero_grad()\n",
        "\n",
        "            # Forward pass\n",
        "            outputs = model(inputs)\n",
        "            task_loss = criterion(outputs, targets)\n",
        "\n",
        "            # Add EWC loss if applicable\n",
        "            ewc_loss = ewc.compute_ewc_loss(lambda_ewc) if ewc else 0.0\n",
        "            loss = task_loss + ewc_loss\n",
        "\n",
        "            # Backward pass and optimize\n",
        "            loss.backward()\n",
        "            optimizer.step()\n",
        "\n",
        "            total_loss += task_loss.item()\n",
        "\n",
        "        print(f\"Epoch {epoch + 1}/{epochs}, Loss: {total_loss / len(dataloader):.4f}\")\n",
        "\n",
        "# Helper function to evaluate the model\n",
        "def evaluate_model(model, dataloader, device='cuda'):\n",
        "    model.eval()\n",
        "    correct = 0\n",
        "    total = 0\n",
        "\n",
        "    with torch.no_grad():\n",
        "        for inputs, targets in dataloader:\n",
        "            inputs, targets = inputs.to(device), targets.to(device)\n",
        "            outputs = model(inputs)\n",
        "            _, predicted = outputs.max(1)\n",
        "            total += targets.size(0)\n",
        "            correct += (predicted == targets).sum().item()\n",
        "\n",
        "    return correct / total\n"
      ]
    },
    {
      "cell_type": "code",
      "execution_count": 4,
      "metadata": {},
      "outputs": [],
      "source": [
        "# Set device\n",
        "device = torch.device(\"cuda\" if torch.cuda.is_available() else \"cpu\")\n",
        "\n",
        "# Load permuted datasets\n",
        "task_datasets = permute_dataset()\n",
        "loader_a = DataLoader(task_datasets[0], batch_size=64, shuffle=True)\n",
        "loader_b = DataLoader(task_datasets[1], batch_size=64, shuffle=True)\n",
        "loader_c = DataLoader(task_datasets[2], batch_size=64, shuffle=True)\n",
        "\n",
        "# Initialize the model, criterion, and optimizer\n",
        "model_sgd = SimpleNN().to(device)\n",
        "model_ewc = SimpleNN().to(device)\n",
        "criterion = nn.CrossEntropyLoss()\n",
        "optimizer_sgd = optim.SGD(model_sgd.parameters(), lr=0.01)\n",
        "optimizer_ewc = optim.SGD(model_ewc.parameters(), lr=0.01)"
      ]
    },
    {
      "cell_type": "code",
      "execution_count": 5,
      "metadata": {},
      "outputs": [],
      "source": [
        "# # Train and evaluate with SGD\n",
        "# print(\"Training with SGD...\")\n",
        "# train_model(model_sgd, loader_a, criterion, optimizer_sgd, epochs=20)  # Train on Task A\n",
        "# acc_a_sgd = evaluate_model(model_sgd, loader_a, device='cpu')\n",
        "# train_model(model_sgd, loader_b, criterion, optimizer_sgd)  # Train on Task B\n",
        "# acc_b_sgd = evaluate_model(model_sgd, loader_b, device='cpu')\n",
        "# acc_ba_sgd = evaluate_model(model_sgd, loader_a, device='cpu')\n",
        "# train_model(model_sgd, loader_c, criterion, optimizer_sgd)  # Train on Task A again\n",
        "# acc_c_sgd = evaluate_model(model_sgd, loader_c, device='cpu')\n",
        "# acc_cb_sgd = evaluate_model(model_sgd, loader_b, device='cpu')\n",
        "# acc_ca_sgd = evaluate_model(model_sgd, loader_a, device='cpu')\n",
        "\n",
        "\n",
        "# print(f\"SGD - Accuracy on Task A: {acc_a_sgd:.2f}, Task B: {acc_b_sgd:.2f}, Accuracy on A after B: {acc_ba_sgd:.2f}\")\n",
        "# print(f\"SGD - Accuracy on Task C: {acc_c_sgd:.2f}, Task B after C: {acc_cb_sgd:.2f}, Task A after C: {acc_ca_sgd:.2f}\")"
      ]
    },
    {
      "cell_type": "code",
      "execution_count": 6,
      "metadata": {},
      "outputs": [
        {
          "name": "stdout",
          "output_type": "stream",
          "text": [
            "Training with EWC...\n",
            "Epoch 1/1, Loss: 6.8240\n"
          ]
        }
      ],
      "source": [
        "# Train and evaluate with EWC\n",
        "print(\"Training with EWC...\")\n",
        "ewc = EWC(model_ewc, device=device)\n",
        "train_model(model_ewc, loader_a, criterion, optimizer_ewc, epochs=1, device='cpu')  # Train on Task A\n",
        "acc_a_ewc = evaluate_model(model_ewc, loader_a, device='cpu')"
      ]
    },
    {
      "cell_type": "code",
      "execution_count": 7,
      "metadata": {},
      "outputs": [
        {
          "name": "stdout",
          "output_type": "stream",
          "text": [
            "Epoch 1/1, Loss: 1.6068\n",
            "Epoch 1/1, Loss: 1.7459\n",
            "EWC - Accuracy on Task A: 0.64, Task B: 0.62, Accuracy on A after B: 0.48\n",
            "EWC - Accuracy on Task C: 0.38, Task B: 0.52, Accuracy on A after C: 0.45\n"
          ]
        }
      ],
      "source": [
        "ewc.compute_fisher(loader_a)\n",
        "ewc.update_params(model_ewc)\n",
        "\n",
        "train_model(model_ewc, loader_b, criterion, optimizer_ewc, ewc=ewc, epochs=1, lambda_ewc=100.0)  # Train on Task B\n",
        "acc_b_ewc = evaluate_model(model_ewc, loader_b, device='cpu')\n",
        "acc_ba_ewc = evaluate_model(model_ewc, loader_a, device='cpu')\n",
        "\n",
        "ewc.compute_fisher(loader_b)\n",
        "ewc.update_params(model_ewc)\n",
        "train_model(model_ewc, loader_c, criterion, optimizer_ewc, ewc=ewc, epochs=1, lambda_ewc=100.0)  # Train on Task C\n",
        "acc_c_ewc = evaluate_model(model_ewc, loader_c, device='cpu')\n",
        "acc_cb_ewc = evaluate_model(model_ewc, loader_b, device='cpu')\n",
        "acc_ca_ewc = evaluate_model(model_ewc, loader_a, device='cpu')\n",
        "print(f\"EWC - Accuracy on Task A: {acc_a_ewc:.2f}, Task B: {acc_b_ewc:.2f}, Accuracy on A after B: {acc_ba_ewc:.2f}\")\n",
        "print(f\"EWC - Accuracy on Task C: {acc_c_ewc:.2f}, Task B: {acc_cb_ewc:.2f}, Accuracy on A after C: {acc_ca_ewc:.2f}\")"
      ]
    },
    {
      "cell_type": "code",
      "execution_count": null,
      "metadata": {},
      "outputs": [],
      "source": []
    }
  ],
  "metadata": {
    "colab": {
      "name": "Untitled1.ipynb",
      "provenance": [],
      "version": "0.3.2"
    },
    "kernelspec": {
      "display_name": "Python 3",
      "language": "python",
      "name": "python3"
    },
    "language_info": {
      "codemirror_mode": {
        "name": "ipython",
        "version": 3
      },
      "file_extension": ".py",
      "mimetype": "text/x-python",
      "name": "python",
      "nbconvert_exporter": "python",
      "pygments_lexer": "ipython3",
      "version": "3.9.0"
    }
  },
  "nbformat": 4,
  "nbformat_minor": 0
}
