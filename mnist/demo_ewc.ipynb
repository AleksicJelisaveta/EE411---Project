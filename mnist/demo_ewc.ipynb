{
  "cells": [
    {
      "cell_type": "code",
      "execution_count": 1,
      "metadata": {},
      "outputs": [
        {
          "name": "stderr",
          "output_type": "stream",
          "text": [
            "c:\\Users\\DELL\\AppData\\Local\\Programs\\Python\\Python39\\lib\\site-packages\\transformers\\utils\\generic.py:441: UserWarning: torch.utils._pytree._register_pytree_node is deprecated. Please use torch.utils._pytree.register_pytree_node instead.\n",
            "  _torch_pytree._register_pytree_node(\n"
          ]
        }
      ],
      "source": [
        "import torch\n",
        "import torch.nn as nn\n",
        "import torch.optim as optim\n",
        "from torch.utils.data import Dataset, DataLoader, Subset\n",
        "from torchvision import datasets, transforms\n",
        "import numpy as np\n",
        "from ewc import EWC\n",
        "import generate_datasets as ds"
      ]
    },
    {
      "cell_type": "code",
      "execution_count": 2,
      "metadata": {},
      "outputs": [],
      "source": [
        "# Helper function to evaluate the model\n",
        "def evaluate_model(model, dataloader, device='cuda'):\n",
        "    model.eval()\n",
        "    correct = 0\n",
        "    total = 0\n",
        "\n",
        "    with torch.no_grad():\n",
        "        for inputs, targets in dataloader:\n",
        "            inputs, targets = inputs.to(device), targets.to(device)\n",
        "            outputs = model(inputs)\n",
        "            _, predicted = outputs.max(1)\n",
        "            total += targets.size(0)\n",
        "            correct += (predicted == targets).sum().item()\n",
        "\n",
        "    return correct / total\n"
      ]
    },
    {
      "cell_type": "code",
      "execution_count": 3,
      "metadata": {},
      "outputs": [],
      "source": [
        "def train_model(model, train_dataloader, test_dataloader, criterion, optimizer, ewc=None, lambda_ewc=0.0, epochs=5, device='cuda'):\n",
        "    model.train()\n",
        "    for epoch in range(epochs):\n",
        "        total_loss = 0\n",
        "        \n",
        "        for inputs, targets in train_dataloader:\n",
        "            inputs, targets = inputs.to(device), targets.to(device)\n",
        "            optimizer.zero_grad()\n",
        "            outputs = model(inputs)\n",
        "            task_loss = criterion(outputs, targets)\n",
        "\n",
        "            # Add regularization loss if applicable\n",
        "            ewc_loss = ewc.compute_ewc_loss(model, lambda_ewc) if ewc else 0.0\n",
        "            loss = task_loss + ewc_loss\n",
        "\n",
        "            loss.backward()\n",
        "            optimizer.step()\n",
        "            total_loss += task_loss.item()\n",
        "\n",
        "        # Evaluate the model after each epoch\n",
        "        accuracy = evaluate_model(model, test_dataloader, device=device)\n",
        "        print(f\"Epoch {epoch + 1}/{epochs}, Loss: {total_loss / len(train_dataloader):.4f}, Accuracy: {accuracy:.4f}\")"
      ]
    },
    {
      "cell_type": "code",
      "execution_count": 4,
      "metadata": {},
      "outputs": [],
      "source": [
        "# Set device\n",
        "device = torch.device(\"cuda\" if torch.cuda.is_available() else \"cpu\")\n",
        "\n",
        "# Load permuted datasets\n",
        "permuted_train_loaders, permuted_test_loaders, _, _ = ds.load_datasets()"
      ]
    },
    {
      "cell_type": "code",
      "execution_count": 5,
      "metadata": {},
      "outputs": [
        {
          "name": "stdout",
          "output_type": "stream",
          "text": [
            "Epoch 1/3, Loss: 0.4177, Accuracy: 0.9365\n",
            "Epoch 2/3, Loss: 0.1442, Accuracy: 0.9528\n",
            "Epoch 3/3, Loss: 0.0974, Accuracy: 0.9624\n",
            "Epoch 1/3, Loss: 0.3800, Accuracy: 0.9398\n",
            "Epoch 2/3, Loss: 0.1625, Accuracy: 0.9485\n",
            "Epoch 3/3, Loss: 0.1199, Accuracy: 0.9575\n",
            "Epoch 1/3, Loss: 0.3700, Accuracy: 0.9383\n",
            "Epoch 2/3, Loss: 0.1697, Accuracy: 0.9483\n",
            "Epoch 3/3, Loss: 0.1264, Accuracy: 0.9537\n"
          ]
        }
      ],
      "source": [
        "from MNIST_functions import CustomNN, EarlyStopping, set_experiment_params\n",
        "\n",
        "# Set experiment parameters\n",
        "learning_rate, dropout_input, dropout_hidden, early_stopping_enabled, num_hidden_layers, width_hidden_layers, epochs = set_experiment_params('2A')\n",
        "epochs = 3\n",
        "\n",
        "# Initialize the model, criterion, optimizer, and early stopping\n",
        "model_ewc = CustomNN(num_hidden_layers=num_hidden_layers, hidden_size=width_hidden_layers, dropout_input=dropout_input, dropout_hidden=dropout_hidden).to(device)\n",
        "criterion = nn.CrossEntropyLoss()\n",
        "optimizer = optim.SGD(model_ewc.parameters(), lr=learning_rate)\n",
        "early_stopping = EarlyStopping(patience=5) if early_stopping_enabled else None\n",
        "\n",
        "# Train on first task with EWC\n",
        "ewc = EWC(model_ewc)\n",
        "train_model(model_ewc, permuted_train_loaders[0], permuted_test_loaders[0], criterion, optimizer, ewc=ewc, lambda_ewc=500, epochs=epochs, device=device)\n",
        "\n",
        "ewc.compute_fisher(permuted_train_loaders[0])\n",
        "ewc.update_params()\n",
        "\n",
        "# Train on second task with EWC\n",
        "train_model(model_ewc, permuted_train_loaders[1], permuted_test_loaders[1], criterion, optimizer, ewc=ewc, lambda_ewc=500, epochs=epochs, device=device)\n",
        "\n",
        "ewc.compute_fisher(permuted_train_loaders[1])\n",
        "ewc.update_params()\n",
        "\n",
        "# Train on third task with EWC\n",
        "train_model(model_ewc, permuted_train_loaders[2], permuted_test_loaders[2], criterion, optimizer, ewc=ewc, lambda_ewc=500, epochs=epochs, device=device)\n"
      ]
    },
    {
      "cell_type": "code",
      "execution_count": 7,
      "metadata": {},
      "outputs": [
        {
          "name": "stdout",
          "output_type": "stream",
          "text": [
            "EWC - Accuracy on Task A: 0.93, Task B: 0.95, Task C: 0.95\n"
          ]
        }
      ],
      "source": [
        "# evaluate on all tasks\n",
        "acc_a_ewc = evaluate_model(model_ewc, permuted_test_loaders[0], device=device)\n",
        "acc_b_ewc = evaluate_model(model_ewc, permuted_test_loaders[1], device=device)\n",
        "acc_c_ewc = evaluate_model(model_ewc, permuted_test_loaders[2], device=device)\n",
        "\n",
        "print(f\"EWC - Accuracy on Task A: {acc_a_ewc:.2f}, Task B: {acc_b_ewc:.2f}, Task C: {acc_c_ewc:.2f}\")"
      ]
    }
  ],
  "metadata": {
    "colab": {
      "name": "Untitled1.ipynb",
      "provenance": [],
      "version": "0.3.2"
    },
    "kernelspec": {
      "display_name": "Python 3",
      "language": "python",
      "name": "python3"
    },
    "language_info": {
      "codemirror_mode": {
        "name": "ipython",
        "version": 3
      },
      "file_extension": ".py",
      "mimetype": "text/x-python",
      "name": "python",
      "nbconvert_exporter": "python",
      "pygments_lexer": "ipython3",
      "version": "3.9.0"
    }
  },
  "nbformat": 4,
  "nbformat_minor": 0
}
